{
 "cells": [
  {
   "cell_type": "code",
   "execution_count": 27,
   "id": "8b4e81af",
   "metadata": {},
   "outputs": [],
   "source": [
    "import os\n",
    "import tensorflow as tf\n",
    "import shutil, sys \n",
    "import numpy as np\n",
    "import tensorflow_datasets as tfds\n",
    "import time\n",
    "import matplotlib.pyplot as plt"
   ]
  },
  {
   "cell_type": "code",
   "execution_count": 2,
   "id": "fdcd9138",
   "metadata": {},
   "outputs": [
    {
     "data": {
      "text/plain": [
       "['imdb.vocab', 'imdbEr.txt', 'README', 'test', 'train']"
      ]
     },
     "execution_count": 2,
     "metadata": {},
     "output_type": "execute_result"
    }
   ],
   "source": [
    "url = \"https://ai.stanford.edu/~amaas/data/sentiment/aclImdb_v1.tar.gz\"\n",
    "\n",
    "dataset = tf.keras.utils.get_file(\"aclImdb_v1.tar.gz\", url,\n",
    "                                  untar=True, cache_dir='.',\n",
    "                                  cache_subdir='')\n",
    "\n",
    "dataset_dir = os.path.join(os.path.dirname(dataset), 'aclImdb')\n",
    "os.listdir(dataset_dir)"
   ]
  },
  {
   "cell_type": "code",
   "execution_count": 3,
   "id": "d12bd9ae",
   "metadata": {},
   "outputs": [
    {
     "data": {
      "text/plain": [
       "['labeledBow.feat',\n",
       " 'neg',\n",
       " 'pos',\n",
       " 'unsup',\n",
       " 'unsupBow.feat',\n",
       " 'urls_neg.txt',\n",
       " 'urls_pos.txt',\n",
       " 'urls_unsup.txt']"
      ]
     },
     "execution_count": 3,
     "metadata": {},
     "output_type": "execute_result"
    }
   ],
   "source": [
    "#Train klasorun içeri/ neg veya pos \n",
    "train_dir = os.path.join(dataset_dir, 'train')\n",
    "os.listdir(train_dir)"
   ]
  },
  {
   "cell_type": "code",
   "execution_count": 16,
   "id": "2117226c",
   "metadata": {},
   "outputs": [
    {
     "data": {
      "text/plain": [
       "['labeledBow.feat', 'neg', 'pos', 'urls_neg.txt', 'urls_pos.txt']"
      ]
     },
     "execution_count": 16,
     "metadata": {},
     "output_type": "execute_result"
    }
   ],
   "source": [
    "test_dir = os.path.join(dataset_dir, 'test')\n",
    "os.listdir(test_dir)"
   ]
  },
  {
   "cell_type": "code",
   "execution_count": 4,
   "id": "e4ec6b7d",
   "metadata": {},
   "outputs": [],
   "source": [
    "#test ve valid bölmeden içerisinde kesintileri cıkarmak\n",
    "remove_dir = os.path.join(train_dir, 'unsup')\n",
    "shutil.rmtree(remove_dir)"
   ]
  },
  {
   "cell_type": "code",
   "execution_count": 5,
   "id": "eec12f50",
   "metadata": {},
   "outputs": [
    {
     "data": {
      "text/plain": [
       "['labeledBow.feat',\n",
       " 'neg',\n",
       " 'pos',\n",
       " 'unsupBow.feat',\n",
       " 'urls_neg.txt',\n",
       " 'urls_pos.txt',\n",
       " 'urls_unsup.txt']"
      ]
     },
     "execution_count": 5,
     "metadata": {},
     "output_type": "execute_result"
    }
   ],
   "source": [
    "#tekrar kontrol boşluklar alınmış\n",
    "train_dir = os.path.join(dataset_dir, 'train')\n",
    "os.listdir(train_dir)"
   ]
  },
  {
   "cell_type": "code",
   "execution_count": 17,
   "id": "6af92dce",
   "metadata": {},
   "outputs": [
    {
     "name": "stdout",
     "output_type": "stream",
     "text": [
      "Found 25000 files belonging to 2 classes.\n",
      "Using 20000 files for training.\n",
      "Found 25000 files belonging to 2 classes.\n",
      "Using 5000 files for validation.\n",
      "Found 25000 files belonging to 2 classes.\n",
      "Using 20000 files for training.\n"
     ]
    }
   ],
   "source": [
    "batch_size = 64\n",
    "seed = 123\n",
    "train_data = tf.keras.utils.text_dataset_from_directory(\n",
    "    'aclImdb/train', batch_size=batch_size, validation_split=0.2,\n",
    "    subset='training', seed=seed)\n",
    "\n",
    "val_data = tf.keras.utils.text_dataset_from_directory(\n",
    "    'aclImdb/train', batch_size=batch_size, validation_split=0.2,\n",
    "    subset='validation', seed=seed)\n",
    "\n",
    "test_data = tf.keras.utils.text_dataset_from_directory(\n",
    "    'aclImdb/test', batch_size=batch_size, validation_split=0.2,\n",
    "    subset='training', seed=seed)\n"
   ]
  },
  {
   "cell_type": "code",
   "execution_count": 45,
   "id": "3e513dd9",
   "metadata": {},
   "outputs": [
    {
     "name": "stdout",
     "output_type": "stream",
     "text": [
      "1 b\"I thoroughly enjoyed this film for its humor and pathos. I especially like the way the characters welcomed Gina's various suitors. With friends (and family) like these anyone would feel nurtured and loved. I found the writing witty and natural and the actors made the material come alive.\"\n",
      "0 b\"And a self-admitted one to boot. At one point the doctor's assistant refers to himself as Igor.<br /><br />Working with the increasingly plausible idea that computers could be used to replace or reconstruct brain functions, this movie doesn't spend enough time exploring the premise. Most of the screen time is split between girlfriend-in-a-coma domestic strife and chasing down the brain donor's killer. It attempts to be a sci-fi/drama/thriller but fails to deliver on any of the three.<br /><br />As a Frankenstein remake this one is missing everything that made the original good. Nobody calls the doctor insane or even threatens to kick him out of the hospital. The transformation scene consists of a coma victim opening one eye and the amazing computer that makes it happen isn't even shown. When the experiment works there is no praise, and when it starts going wrong there is little reaction.<br /><br />Any suspense over who the killer might be is shattered by progressively showing him in the same room with all of the possible suspects. Finding the killer is as easy as opening one file and interviewing one person.<br /><br />San Francisco as a setting is both overplayed and underused. The opening sequence hammers home the point that this is happening in SF, a cable car plays a significant role, the leads live in a hilltop Victorian, Pier 39 makes an appearance, and the final showdown happens at Golden Gate Park. More specifically along ten feet of cliff side at the park - just enough to keep the bridge in the picture at all times. Once the obvious scenery bases are rounded no other attempt is made to explore the city.<br /><br />The acting is the only saving grace here. Keir Dullea shows a good range and pulls off a couple of genuinely emotional scenes. Suzanna Love portrays recovery from a coma well. Tony Curtis only gets a handful of lines and twice as many evil guy stares with most of the Frankenscience explained away by his assistant. The little blond kid hits his cues fairly well also.<br /><br />I also gave it one extra star for the scene where the husband drives south from the bridge, it cuts to a U-turn in an unrelated parking lot, and then he's instantly back on the bridge driving north. It takes a whole lot of something - bravery, ignorance, deadlines - to try and slip that one by the viewer during the one single car chase.\"\n",
      "0 b'Claustrophobic camera angles that do not help the movie: Too long face only shots where you most of the time get the feeling that the lower half of the film is missing (that the screen is cut off), because there seems to be important actions going on, but you cannot see them. There is anyway already too much confusion in the movie, so these viewing angles make it worse and do not contribute to artful visuals. <br /><br />I like artfully made movies and unconventional camera work. I can handle deep and slow movies. But this one is trying too hard to be something artful and fails in my opinion painfully.<br /><br />Nothing to get attached to, to any of the characters, because they are not worked out well enough. To work out characters more is needed, than just minute long face shots, at least with this set of script+director+actors.<br /><br />I wonder whether some of the not so good acting is due to the script and director or due to the actors. <br /><br />I will stay away from films both written and directed by Le You for sure in the future. <br /><br />What an annoying film even for someone who would be interested in that part of history, and for someone who spent time in Shanghai.'\n",
      "1 b'It\\'s a road movie, with a killer on-board. Brian Kessler (David Duchovny), a sophisticated, urbane writer, wants to conduct field research on American serial killers. But, neither he, nor his girlfriend, Carrie (Michelle Forbes), has the money for a cross-country tour of murder sites, so they advertise for someone to share travel expenses. Who they end up with is a young couple, Early Grayce (Brad Pitt) and his girlfriend, Adele (Juliette Lewis), two better examples of \"poor white trash\" you will never find in all of cinema.<br /><br />Indeed, Early and Adele are what make this film so entertaining, as they babble, cackle, confide, muse, speculate, drool, and otherwise behave in ways I haven\\'t seen since reruns of \"The Beverly Hillbillies\". Early\\'s idea of California: \"People think faster out there, on account of all that warm weather; cold weather makes people stupid\". That\\'s enough to convince Adele: \"I guess that explains why there are so many stupid people around here\". To which Early responds proudly: \"It sure does\". Early continues to instruct Adele about California: \"You never have to buy no fruit, on account it\\'s all on the trees ... and they ain\\'t got no speed limits, and I hear your first month\\'s rent is free, state law\".<br /><br />But poor Early has some, well, mental problems, which become ever more obvious to Brian and Carrie as the four travelers proceed west across the U.S. As they enter the desert Southwest, with its beautifully stark landscape, \"Kalifornia\" starts to look more and more like \"The Hitcher\" (1986), and Early starts to act more and more like John Ryder, everyone\\'s maniacal hitchhiker, whose terror seemed so unstoppable.<br /><br />In \"Kalifornia\", the acting is uneven. Duchovny\\'s performance is flat. Brad Pitt is surprisingly effective, despite his overacting at times. Michelle Forbes is great as the avant-garde, photographic artist. But my choice for best performance goes to Juliette Lewis. With her nasal voice and heavy-duty Southern accent, she is stunning, as the naive, highly animated, child-like Adele.<br /><br />Toward the end, the film takes on a Twilight Zone feel to it, as our travelers enter a Nevada nuclear test site with a dilapidated old house full of test mannequins. The plot dissolves rather messily into unnecessary and preposterous violence, an ending that was somewhat disappointing.<br /><br />Overall, however, \"Kalifornia\" is an entertaining film, thanks to a clever concept, great scenery, especially in the second half, good cinematography, great dialogue, and that wonderful performance by Juliette Lewis.'\n",
      "1 b'Remember Ralph Bakshi? The guy that was an animator on Terrytoons, then on Paramount Cartoon Studios, after that, he was a director on Fritz the Cat 1 & 2 and Heavy Traffic? Well, this is Coonskin. And it\\'s actually pretty good. Racist, but good. The movie takes place in Harlem Nights (No, duh, it was a working title.) but with a twist that becomes a lampoon of a Disney movie, Song of the South.<br /><br />It\\'s about Sampson (Barry White) and the Preacherman (Charles Gordone) rush to help their friend, Randy (Philip Michael Thomas) escape from prison, but are stopped by a roadblock and wind up in a shootout with the police. While waiting for them, Randy unwillingly listens to fellow escapee Pappy (Scatman Crothers), as he begins to tell Randy a story about \"three guys, I used to know, just like you and your friends\". Pappy\\'s story is told in animation set against live-action background photos and footage.<br /><br />Brother Rabbit (voice of Thomas), Brother Bear (voice of White), and Preacher Fox (voice of Gordone) decide to pack up and leave their Southern settings after the bank mortgages their home and sells it to a man who turns it into a brothel. Arriving in Harlem, Rabbit, Bear, and Fox find that it isn\\'t all that it\\'s made out to be. They encounter a con man named Simple Savior, a phony revolutionary leader who purports to be the \"cousin\" of Black Jesus, and that he gives his followers \"the strength to kill whites\". In a flashy stage performance in his \"church\", Savior acts out being brutalized by symbols of black oppression\\xc2\\x97represented by images of John Wayne, Elvis Presley and Richard Nixon, before asking his parishioners for \"donations\".<br /><br />Rabbit first goes up against Madigan, a virulently racist and homophobic white police officer and the bag man for the Mafia, who demonstrates his contempt for African Americans in various ways, including a refusal to bathe before an anticipated encounter with them (he believes they\\'re not worth it). When Madigan finds out that Rabbit has been taking his payoffs, he and his cohorts, Ruby and Bobby, are led to a nightclub called \"The Cottontail\".<br /><br />A black stripper distracts him while an LSD sugar cube is dropped into his drink. Madigan, while under the influence of his spiked drink, is then maneuvered into a sexual liaison with a stereotypically effeminate gay man, and then shoved into clothes that women were representative of the racist archetype, adorned in something racist, and finally shoved out the back of the club where he discovers that Ruby and Bobby are dead.<br /><br />Then, while recovering from his delirium of being drugged, shoots his gun around randomly, and is shot to death by the police after shooting one of them.<br /><br />Rabbit, Bear, Fox and the opponent boxer rush out of the boxing arena as it blows up. The live-action story ends with Randy and Pappy escaping while being shot at by various white cops, but managing to make it out alive.<br /><br />This movie was controversial at that time of release, and was re-edited by the director several times under the title, Street Fight, which is obvious, since Street Fight is a 2005 documentary about racism in the streets. In fact, this movie has the same subject as the documentary.<br /><br />That caused Bryanston Pictures, the distributor of this film and the original Tobe Hopper classic, Texas Chainsaw Massacre, to go out of business. Because Paramount wanted to produce and distribute this film, but due to racism, Bryanston took over Bakshi\\'s production.<br /><br />Despite the controversy, it was worth the entertainment. The animation was awesome at that time, the plot makes sense, and it\\'s actually funny too.<br /><br />FINAL VERDICT: 9/10'\n"
     ]
    }
   ],
   "source": [
    "#Etiket kontrol\n",
    "for text_batch, label_batch in train_data.take(1):\n",
    "    for i in range(5):\n",
    "        print(label_batch[i].numpy(), text_batch.numpy()[i])"
   ]
  },
  {
   "cell_type": "code",
   "execution_count": 10,
   "id": "fe374ea6",
   "metadata": {},
   "outputs": [],
   "source": [
    "#data performance\n",
    "AUTOTUNE = tf.data.AUTOTUNE\n",
    "\n",
    "train_data = train_data.cache().prefetch(buffer_size=AUTOTUNE)\n",
    "val_data = val_data.cache().prefetch(buffer_size=AUTOTUNE)"
   ]
  },
  {
   "cell_type": "code",
   "execution_count": 11,
   "id": "482ecc7b",
   "metadata": {},
   "outputs": [],
   "source": [
    "#create the text encoder\n",
    "VOCAB_SIZE = 1000\n",
    "encoder = tf.keras.layers.TextVectorization(\n",
    "    max_tokens=VOCAB_SIZE)\n",
    "encoder.adapt(train_data.map(lambda text, label: text))"
   ]
  },
  {
   "cell_type": "code",
   "execution_count": 12,
   "id": "733da13e",
   "metadata": {},
   "outputs": [
    {
     "data": {
      "text/plain": [
       "array(['', '[UNK]', 'the', 'and', 'a', 'of', 'to', 'is', 'in', 'it', 'i',\n",
       "       'this', 'that', 'br', 'was', 'as', 'with', 'for', 'movie', 'but'],\n",
       "      dtype='<U14')"
      ]
     },
     "execution_count": 12,
     "metadata": {},
     "output_type": "execute_result"
    }
   ],
   "source": [
    "vocab = np.array(encoder.get_vocabulary())\n",
    "vocab[:20]"
   ]
  },
  {
   "cell_type": "code",
   "execution_count": 13,
   "id": "bff210a6",
   "metadata": {},
   "outputs": [
    {
     "data": {
      "text/plain": [
       "array([[ 10,  26, 279, ...,   0,   0,   0],\n",
       "       [ 11,  18,   7, ...,   0,   0,   0],\n",
       "       [ 10, 209,   1, ...,   0,   0,   0]], dtype=int64)"
      ]
     },
     "execution_count": 13,
     "metadata": {},
     "output_type": "execute_result"
    }
   ],
   "source": [
    "#3 adet encoded matrix cevrilmiş hali\n",
    "encoded_batch = encoder(text_batch)[:3].numpy()\n",
    "encoded_batch"
   ]
  },
  {
   "attachments": {},
   "cell_type": "markdown",
   "id": "cd612c13",
   "metadata": {},
   "source": [
    "RNN model\n",
    "This model can be build as a tf.keras.Sequential.\n",
    "\n",
    "The first layer is the encoder, which converts the text to a sequence of token indices.\n",
    "\n",
    "After the encoder is an embedding layer. An embedding layer stores one vector per word. When called, it converts the sequences of word indices to sequences of vectors. These vectors are trainable. After training (on enough data), words with similar meanings often have similar vectors.\n",
    "\n",
    "This index-lookup is much more efficient than the equivalent operation of passing a one-hot encoded vector through a tf.keras.layers.Dense layer.\n",
    "\n",
    "A recurrent neural network (RNN) processes sequence input by iterating through the elements. RNNs pass the outputs from one timestep to their input on the next timestep.\n",
    "\n",
    "The tf.keras.layers.Bidirectional wrapper can also be used with an RNN layer. This propagates the input forward and backwards through the RNN layer and then concatenates the final output.\n",
    "\n",
    "The main advantage of a bidirectional RNN is that the signal from the beginning of the input doesn't need to be processed all the way through every timestep to affect the output.\n",
    "\n",
    "The main disadvantage of a bidirectional RNN is that you can't efficiently stream predictions as words are being added to the end.\n",
    "\n",
    "After the RNN has converted the sequence to a single vector the two layers.Dense do some final processing, and convert from this vector representation to a single logit as the classification output."
   ]
  },
  {
   "cell_type": "code",
   "execution_count": 14,
   "id": "da04a5c8",
   "metadata": {},
   "outputs": [
    {
     "name": "stdout",
     "output_type": "stream",
     "text": [
      "Model: \"sequential\"\n",
      "_________________________________________________________________\n",
      " Layer (type)                Output Shape              Param #   \n",
      "=================================================================\n",
      " text_vectorization (TextVec  (None, None)             0         \n",
      " torization)                                                     \n",
      "                                                                 \n",
      " embedding (Embedding)       (None, None, 64)          64000     \n",
      "                                                                 \n",
      " bidirectional (Bidirectiona  (None, 128)              66048     \n",
      " l)                                                              \n",
      "                                                                 \n",
      " dense (Dense)               (None, 64)                8256      \n",
      "                                                                 \n",
      " dense_1 (Dense)             (None, 1)                 65        \n",
      "                                                                 \n",
      "=================================================================\n",
      "Total params: 138,369\n",
      "Trainable params: 138,369\n",
      "Non-trainable params: 0\n",
      "_________________________________________________________________\n"
     ]
    }
   ],
   "source": [
    "#create Model\n",
    "model = tf.keras.Sequential([\n",
    "    encoder,\n",
    "    tf.keras.layers.Embedding(\n",
    "        input_dim=len(encoder.get_vocabulary()),\n",
    "        output_dim=64,\n",
    "        # Use masking to handle the variable sequence lengths\n",
    "        mask_zero=True),\n",
    "    tf.keras.layers.Bidirectional(tf.keras.layers.LSTM(64)),\n",
    "    tf.keras.layers.Dense(64, activation='relu'),\n",
    "    tf.keras.layers.Dense(1)\n",
    "])\n",
    "model.summary()"
   ]
  },
  {
   "cell_type": "code",
   "execution_count": 15,
   "id": "b963bbdc",
   "metadata": {},
   "outputs": [],
   "source": [
    "#Model Compile with keraS / BİNAR\n",
    "model.compile(loss=tf.keras.losses.BinaryCrossentropy(from_logits=True),\n",
    "              optimizer=tf.keras.optimizers.Adam(1e-4),\n",
    "              metrics=['accuracy'])"
   ]
  },
  {
   "cell_type": "code",
   "execution_count": 39,
   "id": "f48dac64",
   "metadata": {},
   "outputs": [
    {
     "name": "stdout",
     "output_type": "stream",
     "text": [
      "Epoch 1/10\n",
      "313/313 [==============================] - 320s 1s/step - loss: 0.2493 - accuracy: 0.8966 - val_loss: 0.3602 - val_accuracy: 0.8297\n",
      "Epoch 2/10\n",
      "313/313 [==============================] - 358s 1s/step - loss: 0.2460 - accuracy: 0.8974 - val_loss: 0.3486 - val_accuracy: 0.8516\n",
      "Epoch 3/10\n",
      "313/313 [==============================] - 380s 1s/step - loss: 0.2427 - accuracy: 0.8996 - val_loss: 0.3620 - val_accuracy: 0.8406\n",
      "Epoch 4/10\n",
      "313/313 [==============================] - 369s 1s/step - loss: 0.2417 - accuracy: 0.8997 - val_loss: 0.3522 - val_accuracy: 0.8523\n",
      "Epoch 5/10\n",
      "313/313 [==============================] - 367s 1s/step - loss: 0.2363 - accuracy: 0.9013 - val_loss: 0.3747 - val_accuracy: 0.8445\n",
      "Epoch 6/10\n",
      "313/313 [==============================] - 374s 1s/step - loss: 0.2352 - accuracy: 0.9028 - val_loss: 0.4120 - val_accuracy: 0.8305\n",
      "Epoch 7/10\n",
      "313/313 [==============================] - 370s 1s/step - loss: 0.2259 - accuracy: 0.9079 - val_loss: 0.3822 - val_accuracy: 0.8453\n",
      "Epoch 8/10\n",
      "313/313 [==============================] - 382s 1s/step - loss: 0.2271 - accuracy: 0.9076 - val_loss: 0.3746 - val_accuracy: 0.8531\n",
      "Epoch 9/10\n",
      "313/313 [==============================] - 382s 1s/step - loss: 0.2206 - accuracy: 0.9111 - val_loss: 0.3745 - val_accuracy: 0.8484\n",
      "Epoch 10/10\n",
      "313/313 [==============================] - 374s 1s/step - loss: 0.2139 - accuracy: 0.9143 - val_loss: 0.3635 - val_accuracy: 0.8453\n",
      "Total Training Time: 61.28 min\n"
     ]
    }
   ],
   "source": [
    "start_time = time.time()\n",
    "history = model.fit(train_data, epochs=10,\n",
    "                   validation_data=val_data,\n",
    "                    validation_steps=20)\n",
    "\n",
    "print(f'Total Training Time: {(time.time() - start_time)/60:.2f} min')"
   ]
  },
  {
   "cell_type": "code",
   "execution_count": 40,
   "id": "cf642bc3",
   "metadata": {},
   "outputs": [
    {
     "name": "stdout",
     "output_type": "stream",
     "text": [
      "313/313 [==============================] - 51s 164ms/step - loss: 0.3739 - accuracy: 0.8474\n",
      "Test Accuracy: 84.74%\n"
     ]
    }
   ],
   "source": [
    "result = model.evaluate(test_data)\n",
    "print(\"Test Accuracy: {:.2f}%\".format(result[1] * 100))"
   ]
  },
  {
   "cell_type": "code",
   "execution_count": 41,
   "id": "9c0338d0",
   "metadata": {},
   "outputs": [
    {
     "data": {
      "image/png": "[encoded data removed]",
      "text/plain": [
       "<Figure size 576x576 with 1 Axes>"
      ]
     },
     "metadata": {
      "needs_background": "light"
     },
     "output_type": "display_data"
    }
   ],
   "source": [
    "acc = history.history['accuracy']\n",
    "val_acc = history.history['val_accuracy']\n",
    "plt.figure(figsize=(8, 8))\n",
    "plt.subplot(2, 1, 1)\n",
    "plt.plot(acc, label='Training Accuracy')\n",
    "plt.plot(val_acc, label='Validation Accuracy')\n",
    "plt.legend(loc='lower right')\n",
    "plt.ylabel('Accuracy')\n",
    "plt.ylim([min(plt.ylim()),1])\n",
    "plt.title('Training and Validation Accuracy')\n",
    "\n",
    "plt.show()"
   ]
  },
  {
   "cell_type": "code",
   "execution_count": 51,
   "id": "67cabe92",
   "metadata": {},
   "outputs": [
    {
     "name": "stdout",
     "output_type": "stream",
     "text": [
      "1/1 [==============================] - 0s 23ms/step\n",
      "Positive\n",
      "[[0.72436696]]\n"
     ]
    }
   ],
   "source": [
    "#If the prediction is >= 0.0, it is positive else it is negative.\n",
    "sample_text = ('i like this movie')\n",
    "predictions = np.array(model.predict([sample_text]))\n",
    "if predictions < 0.0:\n",
    "    print('Negative')\n",
    "else:\n",
    "    print('Positive')\n",
    "    \n",
    "print(predictions)"
   ]
  },
  {
   "cell_type": "code",
   "execution_count": null,
   "id": "9c967c93",
   "metadata": {},
   "outputs": [],
   "source": []
  }
 ],
 "metadata": {
  "kernelspec": {
   "display_name": "Python 3 (ipykernel)",
   "language": "python",
   "name": "python3"
  },
  "language_info": {
   "codemirror_mode": {
    "name": "ipython",
    "version": 3
   },
   "file_extension": ".py",
   "mimetype": "text/x-python",
   "name": "python",
   "nbconvert_exporter": "python",
   "pygments_lexer": "ipython3",
   "version": "3.9.7"
  }
 },
 "nbformat": 4,
 "nbformat_minor": 5
}
